{
  "nbformat": 4,
  "nbformat_minor": 0,
  "metadata": {
    "colab": {
      "name": "Encoding_techniques_3.ipynb",
      "provenance": [],
      "collapsed_sections": []
    },
    "kernelspec": {
      "name": "python3",
      "display_name": "Python 3"
    }
  },
  "cells": [
    {
      "cell_type": "markdown",
      "metadata": {
        "id": "iv9TAzYbuIQo",
        "colab_type": "text"
      },
      "source": [
        "Till now we have looked at 6 feature encoding techniques.\n",
        "\n",
        "* Label Encoding\n",
        "* One Hot Encoding\n",
        "* Binary Encoding\n",
        "* Mapping\n",
        "* pd.factorize\n",
        "\n",
        "In this notebook we will look at 2 new encoding techniques.\n",
        "\n",
        "* Frequency Encoding\n",
        "* Mean Encoding"
      ]
    },
    {
      "cell_type": "code",
      "metadata": {
        "id": "UdF1BWhDuBee",
        "colab_type": "code",
        "colab": {}
      },
      "source": [
        "import pandas as pd #import pandas\n",
        "import numpy as np #import numpy\n",
        "from sklearn.preprocessing import LabelEncoder  #importing LabelEncoder"
      ],
      "execution_count": 1,
      "outputs": []
    },
    {
      "cell_type": "code",
      "metadata": {
        "id": "fgMhUVLbu614",
        "colab_type": "code",
        "colab": {}
      },
      "source": [
        "train = pd.read_csv('/content/datasets_9961_14084_Train.csv')"
      ],
      "execution_count": 2,
      "outputs": []
    },
    {
      "cell_type": "code",
      "metadata": {
        "id": "eKaLCeNOvGSt",
        "colab_type": "code",
        "colab": {
          "base_uri": "https://localhost:8080/",
          "height": 309
        },
        "outputId": "1cf3162c-f6a6-4107-cf82-464d0970efbc"
      },
      "source": [
        "train.head()"
      ],
      "execution_count": 3,
      "outputs": [
        {
          "output_type": "execute_result",
          "data": {
            "text/html": [
              "<div>\n",
              "<style scoped>\n",
              "    .dataframe tbody tr th:only-of-type {\n",
              "        vertical-align: middle;\n",
              "    }\n",
              "\n",
              "    .dataframe tbody tr th {\n",
              "        vertical-align: top;\n",
              "    }\n",
              "\n",
              "    .dataframe thead th {\n",
              "        text-align: right;\n",
              "    }\n",
              "</style>\n",
              "<table border=\"1\" class=\"dataframe\">\n",
              "  <thead>\n",
              "    <tr style=\"text-align: right;\">\n",
              "      <th></th>\n",
              "      <th>Item_Identifier</th>\n",
              "      <th>Item_Weight</th>\n",
              "      <th>Item_Fat_Content</th>\n",
              "      <th>Item_Visibility</th>\n",
              "      <th>Item_Type</th>\n",
              "      <th>Item_MRP</th>\n",
              "      <th>Outlet_Identifier</th>\n",
              "      <th>Outlet_Establishment_Year</th>\n",
              "      <th>Outlet_Size</th>\n",
              "      <th>Outlet_Location_Type</th>\n",
              "      <th>Outlet_Type</th>\n",
              "      <th>Item_Outlet_Sales</th>\n",
              "    </tr>\n",
              "  </thead>\n",
              "  <tbody>\n",
              "    <tr>\n",
              "      <th>0</th>\n",
              "      <td>FDA15</td>\n",
              "      <td>9.30</td>\n",
              "      <td>Low Fat</td>\n",
              "      <td>0.016047</td>\n",
              "      <td>Dairy</td>\n",
              "      <td>249.8092</td>\n",
              "      <td>OUT049</td>\n",
              "      <td>1999</td>\n",
              "      <td>Medium</td>\n",
              "      <td>Tier 1</td>\n",
              "      <td>Supermarket Type1</td>\n",
              "      <td>3735.1380</td>\n",
              "    </tr>\n",
              "    <tr>\n",
              "      <th>1</th>\n",
              "      <td>DRC01</td>\n",
              "      <td>5.92</td>\n",
              "      <td>Regular</td>\n",
              "      <td>0.019278</td>\n",
              "      <td>Soft Drinks</td>\n",
              "      <td>48.2692</td>\n",
              "      <td>OUT018</td>\n",
              "      <td>2009</td>\n",
              "      <td>Medium</td>\n",
              "      <td>Tier 3</td>\n",
              "      <td>Supermarket Type2</td>\n",
              "      <td>443.4228</td>\n",
              "    </tr>\n",
              "    <tr>\n",
              "      <th>2</th>\n",
              "      <td>FDN15</td>\n",
              "      <td>17.50</td>\n",
              "      <td>Low Fat</td>\n",
              "      <td>0.016760</td>\n",
              "      <td>Meat</td>\n",
              "      <td>141.6180</td>\n",
              "      <td>OUT049</td>\n",
              "      <td>1999</td>\n",
              "      <td>Medium</td>\n",
              "      <td>Tier 1</td>\n",
              "      <td>Supermarket Type1</td>\n",
              "      <td>2097.2700</td>\n",
              "    </tr>\n",
              "    <tr>\n",
              "      <th>3</th>\n",
              "      <td>FDX07</td>\n",
              "      <td>19.20</td>\n",
              "      <td>Regular</td>\n",
              "      <td>0.000000</td>\n",
              "      <td>Fruits and Vegetables</td>\n",
              "      <td>182.0950</td>\n",
              "      <td>OUT010</td>\n",
              "      <td>1998</td>\n",
              "      <td>NaN</td>\n",
              "      <td>Tier 3</td>\n",
              "      <td>Grocery Store</td>\n",
              "      <td>732.3800</td>\n",
              "    </tr>\n",
              "    <tr>\n",
              "      <th>4</th>\n",
              "      <td>NCD19</td>\n",
              "      <td>8.93</td>\n",
              "      <td>Low Fat</td>\n",
              "      <td>0.000000</td>\n",
              "      <td>Household</td>\n",
              "      <td>53.8614</td>\n",
              "      <td>OUT013</td>\n",
              "      <td>1987</td>\n",
              "      <td>High</td>\n",
              "      <td>Tier 3</td>\n",
              "      <td>Supermarket Type1</td>\n",
              "      <td>994.7052</td>\n",
              "    </tr>\n",
              "  </tbody>\n",
              "</table>\n",
              "</div>"
            ],
            "text/plain": [
              "  Item_Identifier  Item_Weight  ...        Outlet_Type  Item_Outlet_Sales\n",
              "0           FDA15         9.30  ...  Supermarket Type1          3735.1380\n",
              "1           DRC01         5.92  ...  Supermarket Type2           443.4228\n",
              "2           FDN15        17.50  ...  Supermarket Type1          2097.2700\n",
              "3           FDX07        19.20  ...      Grocery Store           732.3800\n",
              "4           NCD19         8.93  ...  Supermarket Type1           994.7052\n",
              "\n",
              "[5 rows x 12 columns]"
            ]
          },
          "metadata": {
            "tags": []
          },
          "execution_count": 3
        }
      ]
    },
    {
      "cell_type": "code",
      "metadata": {
        "id": "Av9KbBsLvZs2",
        "colab_type": "code",
        "colab": {
          "base_uri": "https://localhost:8080/",
          "height": 51
        },
        "outputId": "76a4cd7d-5f78-41bd-9abe-8a3288bd7909"
      },
      "source": [
        "#check the size of the dataset\n",
        "print('Data has {} Number of rows'.format(train.shape[0]))\n",
        "print('Data has {} Number of columns'.format(train.shape[1]))"
      ],
      "execution_count": 4,
      "outputs": [
        {
          "output_type": "stream",
          "text": [
            "Data has 8523 Number of rows\n",
            "Data has 12 Number of columns\n"
          ],
          "name": "stdout"
        }
      ]
    },
    {
      "cell_type": "code",
      "metadata": {
        "id": "vVfFG5kXviWf",
        "colab_type": "code",
        "colab": {}
      },
      "source": [
        "#let's keep our categorical variables in one table\n",
        "cat_data = train[['Item_Identifier','Item_Fat_Content','Item_Type','Outlet_Identifier','Outlet_Size','Outlet_Location_Type','Outlet_Type','Item_Outlet_Sales']]\n"
      ],
      "execution_count": 5,
      "outputs": []
    },
    {
      "cell_type": "code",
      "metadata": {
        "id": "g9WaLjCRvlnO",
        "colab_type": "code",
        "colab": {
          "base_uri": "https://localhost:8080/",
          "height": 309
        },
        "outputId": "cf3eeb45-b5bb-4222-d618-eb06612d55be"
      },
      "source": [
        "cat_data.head()   #check the head of categorical data"
      ],
      "execution_count": 6,
      "outputs": [
        {
          "output_type": "execute_result",
          "data": {
            "text/html": [
              "<div>\n",
              "<style scoped>\n",
              "    .dataframe tbody tr th:only-of-type {\n",
              "        vertical-align: middle;\n",
              "    }\n",
              "\n",
              "    .dataframe tbody tr th {\n",
              "        vertical-align: top;\n",
              "    }\n",
              "\n",
              "    .dataframe thead th {\n",
              "        text-align: right;\n",
              "    }\n",
              "</style>\n",
              "<table border=\"1\" class=\"dataframe\">\n",
              "  <thead>\n",
              "    <tr style=\"text-align: right;\">\n",
              "      <th></th>\n",
              "      <th>Item_Identifier</th>\n",
              "      <th>Item_Fat_Content</th>\n",
              "      <th>Item_Type</th>\n",
              "      <th>Outlet_Identifier</th>\n",
              "      <th>Outlet_Size</th>\n",
              "      <th>Outlet_Location_Type</th>\n",
              "      <th>Outlet_Type</th>\n",
              "      <th>Item_Outlet_Sales</th>\n",
              "    </tr>\n",
              "  </thead>\n",
              "  <tbody>\n",
              "    <tr>\n",
              "      <th>0</th>\n",
              "      <td>FDA15</td>\n",
              "      <td>Low Fat</td>\n",
              "      <td>Dairy</td>\n",
              "      <td>OUT049</td>\n",
              "      <td>Medium</td>\n",
              "      <td>Tier 1</td>\n",
              "      <td>Supermarket Type1</td>\n",
              "      <td>3735.1380</td>\n",
              "    </tr>\n",
              "    <tr>\n",
              "      <th>1</th>\n",
              "      <td>DRC01</td>\n",
              "      <td>Regular</td>\n",
              "      <td>Soft Drinks</td>\n",
              "      <td>OUT018</td>\n",
              "      <td>Medium</td>\n",
              "      <td>Tier 3</td>\n",
              "      <td>Supermarket Type2</td>\n",
              "      <td>443.4228</td>\n",
              "    </tr>\n",
              "    <tr>\n",
              "      <th>2</th>\n",
              "      <td>FDN15</td>\n",
              "      <td>Low Fat</td>\n",
              "      <td>Meat</td>\n",
              "      <td>OUT049</td>\n",
              "      <td>Medium</td>\n",
              "      <td>Tier 1</td>\n",
              "      <td>Supermarket Type1</td>\n",
              "      <td>2097.2700</td>\n",
              "    </tr>\n",
              "    <tr>\n",
              "      <th>3</th>\n",
              "      <td>FDX07</td>\n",
              "      <td>Regular</td>\n",
              "      <td>Fruits and Vegetables</td>\n",
              "      <td>OUT010</td>\n",
              "      <td>NaN</td>\n",
              "      <td>Tier 3</td>\n",
              "      <td>Grocery Store</td>\n",
              "      <td>732.3800</td>\n",
              "    </tr>\n",
              "    <tr>\n",
              "      <th>4</th>\n",
              "      <td>NCD19</td>\n",
              "      <td>Low Fat</td>\n",
              "      <td>Household</td>\n",
              "      <td>OUT013</td>\n",
              "      <td>High</td>\n",
              "      <td>Tier 3</td>\n",
              "      <td>Supermarket Type1</td>\n",
              "      <td>994.7052</td>\n",
              "    </tr>\n",
              "  </tbody>\n",
              "</table>\n",
              "</div>"
            ],
            "text/plain": [
              "  Item_Identifier Item_Fat_Content  ...        Outlet_Type Item_Outlet_Sales\n",
              "0           FDA15          Low Fat  ...  Supermarket Type1         3735.1380\n",
              "1           DRC01          Regular  ...  Supermarket Type2          443.4228\n",
              "2           FDN15          Low Fat  ...  Supermarket Type1         2097.2700\n",
              "3           FDX07          Regular  ...      Grocery Store          732.3800\n",
              "4           NCD19          Low Fat  ...  Supermarket Type1          994.7052\n",
              "\n",
              "[5 rows x 8 columns]"
            ]
          },
          "metadata": {
            "tags": []
          },
          "execution_count": 6
        }
      ]
    },
    {
      "cell_type": "code",
      "metadata": {
        "id": "R5XK4RIKvtdE",
        "colab_type": "code",
        "colab": {
          "base_uri": "https://localhost:8080/",
          "height": 102
        },
        "outputId": "4515758a-83c3-4429-a889-ff82059df84d"
      },
      "source": [
        "#Let's start where we had left \n",
        "print(cat_data['Item_Type'].nunique())\n",
        "print(cat_data['Item_Type'].unique())"
      ],
      "execution_count": 7,
      "outputs": [
        {
          "output_type": "stream",
          "text": [
            "16\n",
            "['Dairy' 'Soft Drinks' 'Meat' 'Fruits and Vegetables' 'Household'\n",
            " 'Baking Goods' 'Snack Foods' 'Frozen Foods' 'Breakfast'\n",
            " 'Health and Hygiene' 'Hard Drinks' 'Canned' 'Breads' 'Starchy Foods'\n",
            " 'Others' 'Seafood']\n"
          ],
          "name": "stdout"
        }
      ]
    },
    {
      "cell_type": "markdown",
      "metadata": {
        "id": "6QOPc-htv77x",
        "colab_type": "text"
      },
      "source": [
        "**Frequency Encoding**\n",
        "\n",
        "It is a way to utilize the frequency of labels."
      ]
    },
    {
      "cell_type": "code",
      "metadata": {
        "id": "y27lvBAfwEMa",
        "colab_type": "code",
        "colab": {
          "base_uri": "https://localhost:8080/",
          "height": 306
        },
        "outputId": "d97c62a0-ad96-4252-86fa-51a6170924bd"
      },
      "source": [
        "fe = cat_data['Item_Type'].value_counts(ascending=True)/len(cat_data)  #count the frequency of labels\n",
        "print(fe)"
      ],
      "execution_count": 8,
      "outputs": [
        {
          "output_type": "stream",
          "text": [
            "Seafood                  0.007509\n",
            "Breakfast                0.012906\n",
            "Starchy Foods            0.017365\n",
            "Others                   0.019829\n",
            "Hard Drinks              0.025109\n",
            "Breads                   0.029450\n",
            "Meat                     0.049865\n",
            "Soft Drinks              0.052212\n",
            "Health and Hygiene       0.061011\n",
            "Baking Goods             0.076030\n",
            "Canned                   0.076147\n",
            "Dairy                    0.080019\n",
            "Frozen Foods             0.100434\n",
            "Household                0.106770\n",
            "Snack Foods              0.140795\n",
            "Fruits and Vegetables    0.144550\n",
            "Name: Item_Type, dtype: float64\n"
          ],
          "name": "stdout"
        }
      ]
    },
    {
      "cell_type": "code",
      "metadata": {
        "id": "neIzK-T8wH7U",
        "colab_type": "code",
        "colab": {
          "base_uri": "https://localhost:8080/",
          "height": 204
        },
        "outputId": "7d9c19d2-3f44-4d27-8461-98bc3439621e"
      },
      "source": [
        "cat_data['Item_Type'].map(fe).head(10)  #map frequency to item type"
      ],
      "execution_count": 9,
      "outputs": [
        {
          "output_type": "execute_result",
          "data": {
            "text/plain": [
              "0    0.080019\n",
              "1    0.052212\n",
              "2    0.049865\n",
              "3    0.144550\n",
              "4    0.106770\n",
              "5    0.076030\n",
              "6    0.140795\n",
              "7    0.140795\n",
              "8    0.100434\n",
              "9    0.100434\n",
              "Name: Item_Type, dtype: float64"
            ]
          },
          "metadata": {
            "tags": []
          },
          "execution_count": 9
        }
      ]
    },
    {
      "cell_type": "markdown",
      "metadata": {
        "id": "fc7A9uyavw1z",
        "colab_type": "text"
      },
      "source": [
        "\n",
        "This technique is useful when the frequency is somewhat related with the target variable."
      ]
    },
    {
      "cell_type": "markdown",
      "metadata": {
        "id": "weXSTFA-wT4a",
        "colab_type": "text"
      },
      "source": [
        "**Mean Encoding**\n",
        "\n",
        "It is the most followed approach by the kagglers. We will not go into it's technality here. We will just look at it use and it's drwaback.\n",
        "\n",
        "We go through following steps for mean encoding\n",
        "\n",
        "1. Group by categorical variable and obtain aggregated sum over target\n",
        "\n",
        "2. Group by categorical variable and obtain aggregated count over target\n",
        "\n",
        "3. divide step 2 / step 1\n"
      ]
    },
    {
      "cell_type": "code",
      "metadata": {
        "id": "OgoXYaK3xEIG",
        "colab_type": "code",
        "colab": {
          "base_uri": "https://localhost:8080/",
          "height": 221
        },
        "outputId": "a55e96d1-6235-47bf-fadb-b3490c768fb0"
      },
      "source": [
        "#get the mean of target variable label wise\n",
        "me = cat_data.groupby('Outlet_Identifier')['Item_Outlet_Sales'].mean()\n",
        "print(me)"
      ],
      "execution_count": 10,
      "outputs": [
        {
          "output_type": "stream",
          "text": [
            "Outlet_Identifier\n",
            "OUT010     339.351662\n",
            "OUT013    2298.995256\n",
            "OUT017    2340.675263\n",
            "OUT018    1995.498739\n",
            "OUT019     340.329723\n",
            "OUT027    3694.038558\n",
            "OUT035    2438.841866\n",
            "OUT045    2192.384798\n",
            "OUT046    2277.844267\n",
            "OUT049    2348.354635\n",
            "Name: Item_Outlet_Sales, dtype: float64\n"
          ],
          "name": "stdout"
        }
      ]
    },
    {
      "cell_type": "code",
      "metadata": {
        "id": "CmYx2g1rxHly",
        "colab_type": "code",
        "colab": {
          "base_uri": "https://localhost:8080/",
          "height": 204
        },
        "outputId": "2fc2b014-433b-47d5-e6d0-b9f64c244a33"
      },
      "source": [
        "#get the mean of target variable label wise\n",
        "cat_data['Outlet_Identifier'].map(me).head(10)"
      ],
      "execution_count": 11,
      "outputs": [
        {
          "output_type": "execute_result",
          "data": {
            "text/plain": [
              "0    2348.354635\n",
              "1    1995.498739\n",
              "2    2348.354635\n",
              "3     339.351662\n",
              "4    2298.995256\n",
              "5    1995.498739\n",
              "6    2298.995256\n",
              "7    3694.038558\n",
              "8    2192.384798\n",
              "9    2340.675263\n",
              "Name: Outlet_Identifier, dtype: float64"
            ]
          },
          "metadata": {
            "tags": []
          },
          "execution_count": 11
        }
      ]
    },
    {
      "cell_type": "markdown",
      "metadata": {
        "id": "4OoFA-sWxM7J",
        "colab_type": "text"
      },
      "source": [
        "\n",
        "Here we have mapped different labels with the mean of the target variable.\n",
        "\n",
        "When we have large number of features mean encoding is a way to go about encoding. As it doesnot creates any new feature. It also correlates with the target feature.\n",
        "\n",
        "The disadvantage of mean encoding is that it is prone to overfitting."
      ]
    },
    {
      "cell_type": "code",
      "metadata": {
        "id": "5dHnQr-BxPb1",
        "colab_type": "code",
        "colab": {
          "base_uri": "https://localhost:8080/",
          "height": 85
        },
        "outputId": "b7e34402-05d9-492c-d3ea-774c88e74389"
      },
      "source": [
        "#check value counts in Outlet_Size\n",
        "cat_data['Outlet_Size'].value_counts()"
      ],
      "execution_count": 12,
      "outputs": [
        {
          "output_type": "execute_result",
          "data": {
            "text/plain": [
              "Medium    2793\n",
              "Small     2388\n",
              "High       932\n",
              "Name: Outlet_Size, dtype: int64"
            ]
          },
          "metadata": {
            "tags": []
          },
          "execution_count": 12
        }
      ]
    },
    {
      "cell_type": "markdown",
      "metadata": {
        "id": "wgn0VkNqxTRb",
        "colab_type": "text"
      },
      "source": [
        "It is a ordinal variable we will make a dictionary as assign\n",
        "\n",
        "* Small-----> 0\n",
        "* Medium -----> 1\n",
        "* High -----> 2"
      ]
    },
    {
      "cell_type": "code",
      "metadata": {
        "id": "GX3tAA56xVvj",
        "colab_type": "code",
        "colab": {
          "base_uri": "https://localhost:8080/",
          "height": 34
        },
        "outputId": "58a87efd-5d9e-4068-c6ae-7e6cb9ae7881"
      },
      "source": [
        "#Check the null values\n",
        "cat_data['Outlet_Size'].isnull().sum()"
      ],
      "execution_count": 13,
      "outputs": [
        {
          "output_type": "execute_result",
          "data": {
            "text/plain": [
              "2410"
            ]
          },
          "metadata": {
            "tags": []
          },
          "execution_count": 13
        }
      ]
    },
    {
      "cell_type": "code",
      "metadata": {
        "id": "AKyzjm6GwSAY",
        "colab_type": "code",
        "colab": {
          "base_uri": "https://localhost:8080/",
          "height": 122
        },
        "outputId": "7e8350d7-af5a-4f6f-c227-b605da2ce43e"
      },
      "source": [
        "#fill the null values with other category for now\n",
        "cat_data['Outlet_Size'].fillna('Others',inplace = True)"
      ],
      "execution_count": 14,
      "outputs": [
        {
          "output_type": "stream",
          "text": [
            "/usr/local/lib/python3.6/dist-packages/pandas/core/generic.py:6245: SettingWithCopyWarning: \n",
            "A value is trying to be set on a copy of a slice from a DataFrame\n",
            "\n",
            "See the caveats in the documentation: https://pandas.pydata.org/pandas-docs/stable/user_guide/indexing.html#returning-a-view-versus-a-copy\n",
            "  self._update_inplace(new_data)\n"
          ],
          "name": "stderr"
        }
      ]
    },
    {
      "cell_type": "code",
      "metadata": {
        "id": "1Y8zlD-mxijL",
        "colab_type": "code",
        "colab": {
          "base_uri": "https://localhost:8080/",
          "height": 204
        },
        "outputId": "e8db130b-458d-4c34-d40d-0f9f7ceba8ee"
      },
      "source": [
        "#prepare a dictionary to map\n",
        "size_fe = {\"Small\" : 0, \"Medium\" : 1, \"High\" : 2, \"Others\" : 3}\n",
        "cat_data['Outlet_Size'].map(size_fe).head(10)"
      ],
      "execution_count": 15,
      "outputs": [
        {
          "output_type": "execute_result",
          "data": {
            "text/plain": [
              "0    1\n",
              "1    1\n",
              "2    1\n",
              "3    3\n",
              "4    2\n",
              "5    1\n",
              "6    2\n",
              "7    1\n",
              "8    3\n",
              "9    3\n",
              "Name: Outlet_Size, dtype: int64"
            ]
          },
          "metadata": {
            "tags": []
          },
          "execution_count": 15
        }
      ]
    },
    {
      "cell_type": "code",
      "metadata": {
        "id": "FvdI-FXpxonP",
        "colab_type": "code",
        "colab": {
          "base_uri": "https://localhost:8080/",
          "height": 85
        },
        "outputId": "264962b9-9f9f-4b9c-8040-4d36c4bd1898"
      },
      "source": [
        "cat_data['Outlet_Location_Type'].value_counts()"
      ],
      "execution_count": 16,
      "outputs": [
        {
          "output_type": "execute_result",
          "data": {
            "text/plain": [
              "Tier 3    3350\n",
              "Tier 2    2785\n",
              "Tier 1    2388\n",
              "Name: Outlet_Location_Type, dtype: int64"
            ]
          },
          "metadata": {
            "tags": []
          },
          "execution_count": 16
        }
      ]
    },
    {
      "cell_type": "markdown",
      "metadata": {
        "id": "3xnC8S7UyAOQ",
        "colab_type": "text"
      },
      "source": [
        "Here Tier 1, Teir 2 and Teir 3 are ordinal variables. We can use Label Encoding or map the values.\n",
        "\n",
        "* Tier 3-----> 0\n",
        "* Tier 2 -----> 1\n",
        "* Tier 1-----> 2"
      ]
    },
    {
      "cell_type": "code",
      "metadata": {
        "id": "Pvlg9tTeyFOh",
        "colab_type": "code",
        "colab": {
          "base_uri": "https://localhost:8080/",
          "height": 204
        },
        "outputId": "eb6ca802-f235-4f66-d2b8-ed7da6af724d"
      },
      "source": [
        "location_fe = {\"Tier 3\" : 1, \"Tier 2\" : 2, \"Tier 1\" : 3}\n",
        "cat_data['Outlet_Location_Type'].map(location_fe).head(10)"
      ],
      "execution_count": 17,
      "outputs": [
        {
          "output_type": "execute_result",
          "data": {
            "text/plain": [
              "0    3\n",
              "1    1\n",
              "2    3\n",
              "3    1\n",
              "4    1\n",
              "5    1\n",
              "6    1\n",
              "7    1\n",
              "8    2\n",
              "9    2\n",
              "Name: Outlet_Location_Type, dtype: int64"
            ]
          },
          "metadata": {
            "tags": []
          },
          "execution_count": 17
        }
      ]
    },
    {
      "cell_type": "code",
      "metadata": {
        "id": "ttVQpk1XyLfC",
        "colab_type": "code",
        "colab": {
          "base_uri": "https://localhost:8080/",
          "height": 102
        },
        "outputId": "e4387ade-c2b6-4f13-dfb6-5606711de631"
      },
      "source": [
        "#Check last variable and do the encoding\n",
        "cat_data['Outlet_Type'].value_counts()"
      ],
      "execution_count": 18,
      "outputs": [
        {
          "output_type": "execute_result",
          "data": {
            "text/plain": [
              "Supermarket Type1    5577\n",
              "Grocery Store        1083\n",
              "Supermarket Type3     935\n",
              "Supermarket Type2     928\n",
              "Name: Outlet_Type, dtype: int64"
            ]
          },
          "metadata": {
            "tags": []
          },
          "execution_count": 18
        }
      ]
    },
    {
      "cell_type": "markdown",
      "metadata": {
        "id": "TVkWxkfwygM_",
        "colab_type": "text"
      },
      "source": [
        "\n",
        "The labels here are nominal. It will be better to use nominal encoding. We have only 4 labels we can try one hot encoding or binary encoding as well."
      ]
    },
    {
      "cell_type": "code",
      "metadata": {
        "id": "pzFQe3n2yVNS",
        "colab_type": "code",
        "colab": {
          "base_uri": "https://localhost:8080/",
          "height": 204
        },
        "outputId": "bd3595bb-4bef-48e0-b175-1de49ea2f2e0"
      },
      "source": [
        "pd.get_dummies(cat_data['Outlet_Type'],drop_first=True).head()"
      ],
      "execution_count": 19,
      "outputs": [
        {
          "output_type": "execute_result",
          "data": {
            "text/html": [
              "<div>\n",
              "<style scoped>\n",
              "    .dataframe tbody tr th:only-of-type {\n",
              "        vertical-align: middle;\n",
              "    }\n",
              "\n",
              "    .dataframe tbody tr th {\n",
              "        vertical-align: top;\n",
              "    }\n",
              "\n",
              "    .dataframe thead th {\n",
              "        text-align: right;\n",
              "    }\n",
              "</style>\n",
              "<table border=\"1\" class=\"dataframe\">\n",
              "  <thead>\n",
              "    <tr style=\"text-align: right;\">\n",
              "      <th></th>\n",
              "      <th>Supermarket Type1</th>\n",
              "      <th>Supermarket Type2</th>\n",
              "      <th>Supermarket Type3</th>\n",
              "    </tr>\n",
              "  </thead>\n",
              "  <tbody>\n",
              "    <tr>\n",
              "      <th>0</th>\n",
              "      <td>1</td>\n",
              "      <td>0</td>\n",
              "      <td>0</td>\n",
              "    </tr>\n",
              "    <tr>\n",
              "      <th>1</th>\n",
              "      <td>0</td>\n",
              "      <td>1</td>\n",
              "      <td>0</td>\n",
              "    </tr>\n",
              "    <tr>\n",
              "      <th>2</th>\n",
              "      <td>1</td>\n",
              "      <td>0</td>\n",
              "      <td>0</td>\n",
              "    </tr>\n",
              "    <tr>\n",
              "      <th>3</th>\n",
              "      <td>0</td>\n",
              "      <td>0</td>\n",
              "      <td>0</td>\n",
              "    </tr>\n",
              "    <tr>\n",
              "      <th>4</th>\n",
              "      <td>1</td>\n",
              "      <td>0</td>\n",
              "      <td>0</td>\n",
              "    </tr>\n",
              "  </tbody>\n",
              "</table>\n",
              "</div>"
            ],
            "text/plain": [
              "   Supermarket Type1  Supermarket Type2  Supermarket Type3\n",
              "0                  1                  0                  0\n",
              "1                  0                  1                  0\n",
              "2                  1                  0                  0\n",
              "3                  0                  0                  0\n",
              "4                  1                  0                  0"
            ]
          },
          "metadata": {
            "tags": []
          },
          "execution_count": 19
        }
      ]
    },
    {
      "cell_type": "markdown",
      "metadata": {
        "id": "PZBwivHQyYvF",
        "colab_type": "text"
      },
      "source": [
        "\n",
        "Next we will use all the encoding techniques we have learnt till now on different datasets. So that you will have some practice and will have better understanding when to use which encoding."
      ]
    },
    {
      "cell_type": "code",
      "metadata": {
        "id": "146xZtE3yZqw",
        "colab_type": "code",
        "colab": {}
      },
      "source": [
        ""
      ],
      "execution_count": null,
      "outputs": []
    },
    {
      "cell_type": "markdown",
      "metadata": {
        "id": "vkDXeNHSyPyM",
        "colab_type": "text"
      },
      "source": [
        ""
      ]
    }
  ]
}