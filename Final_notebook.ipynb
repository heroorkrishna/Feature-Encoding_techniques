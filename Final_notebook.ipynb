{
  "nbformat": 4,
  "nbformat_minor": 0,
  "metadata": {
    "colab": {
      "name": "Final_notebook.ipynb",
      "provenance": [],
      "collapsed_sections": []
    },
    "kernelspec": {
      "name": "python3",
      "display_name": "Python 3"
    }
  },
  "cells": [
    {
      "cell_type": "markdown",
      "metadata": {
        "id": "VNzUpo6e2mqN",
        "colab_type": "text"
      },
      "source": [
        "Dataset Link: https://www.kaggle.com/akshayksingh/kidney-disease-dataset"
      ]
    },
    {
      "cell_type": "code",
      "metadata": {
        "id": "i2Qo9j-l0cBn",
        "colab_type": "code",
        "colab": {}
      },
      "source": [
        "import pandas as pd   #import pandas\n",
        "import numpy as np    #import numpy\n",
        "from sklearn.preprocessing import LabelEncoder #import LabelEncoder"
      ],
      "execution_count": null,
      "outputs": []
    },
    {
      "cell_type": "code",
      "metadata": {
        "id": "vnkp4k9P03dK",
        "colab_type": "code",
        "colab": {}
      },
      "source": [
        "#read the data\n",
        "data = pd.read_csv('/content/datasets_288505_593164_kidney_disease.csv')"
      ],
      "execution_count": null,
      "outputs": []
    },
    {
      "cell_type": "code",
      "metadata": {
        "id": "QcLbIgAW06Vc",
        "colab_type": "code",
        "colab": {}
      },
      "source": [
        "#check the shape of the data\n",
        "print('Dataset has {} number of rows and {} Number of columns'.format ( data.shape[0], data.shape[1]) )"
      ],
      "execution_count": null,
      "outputs": []
    },
    {
      "cell_type": "code",
      "metadata": {
        "id": "DJnZLllL09SH",
        "colab_type": "code",
        "colab": {}
      },
      "source": [
        "#check the head of the data\n",
        "data.head()"
      ],
      "execution_count": null,
      "outputs": []
    },
    {
      "cell_type": "code",
      "metadata": {
        "id": "wbSaw0mM0_qa",
        "colab_type": "code",
        "colab": {}
      },
      "source": [
        "#check the information of the dataset\n",
        "data.info()"
      ],
      "execution_count": null,
      "outputs": []
    },
    {
      "cell_type": "code",
      "metadata": {
        "id": "uScDvcEg1Ccy",
        "colab_type": "code",
        "colab": {}
      },
      "source": [
        "catg_col = data[['rbc', 'pc', 'pcc', 'ba', 'htn', 'dm', 'cad', 'appet', 'pe', 'ane', 'classification']]\n",
        " catg_col.head(10)"
      ],
      "execution_count": null,
      "outputs": []
    },
    {
      "cell_type": "code",
      "metadata": {
        "id": "0lk656PK1FWB",
        "colab_type": "code",
        "colab": {}
      },
      "source": [
        "catg_col['classification'].value_counts()"
      ],
      "execution_count": null,
      "outputs": []
    },
    {
      "cell_type": "code",
      "metadata": {
        "id": "O4ZZR4po1I1S",
        "colab_type": "code",
        "colab": {}
      },
      "source": [
        "#replace ckd\\t with notckd they are just missispelled\n",
        "catg_col['classification'] = catg_col['classification'].replace('ckd\\t','notckd')"
      ],
      "execution_count": null,
      "outputs": []
    },
    {
      "cell_type": "code",
      "metadata": {
        "id": "hiJDmzZu1Ned",
        "colab_type": "code",
        "colab": {}
      },
      "source": [
        "catg_col['classification'].value_counts() #now check the value counts"
      ],
      "execution_count": null,
      "outputs": []
    },
    {
      "cell_type": "markdown",
      "metadata": {
        "id": "19yLIbGy1R4_",
        "colab_type": "text"
      },
      "source": [
        "classification is our target variable here. We have 248 patients with Chronic kidney dieseas and 152 Not Chronic Kindey Diseases.\n",
        "\n",
        "Our target variable is itself into categoric form. We have to convert it first. Let's assign ckd as 1 and notckd as 0."
      ]
    },
    {
      "cell_type": "code",
      "metadata": {
        "id": "85w3HA5z1_sn",
        "colab_type": "code",
        "colab": {}
      },
      "source": [
        "#apply LabelEncoder\n",
        "le = LabelEncoder()\n",
        "c_en = le.fit_transform(catg_col['classification'])\n",
        "print(c_en[ :10])\n",
        "list(catg_col['classification'].head(10))"
      ],
      "execution_count": null,
      "outputs": []
    },
    {
      "cell_type": "markdown",
      "metadata": {
        "id": "mmru14wb2CRd",
        "colab_type": "text"
      },
      "source": [
        "As expected we know that LabelEncoding assigns the ranks alphabatically. We wanted to assign ckd as 1 because they are confirmed cases with chronic kidney dieseas and notckd as 0.\n",
        "\n",
        "Encode using map"
      ]
    },
    {
      "cell_type": "code",
      "metadata": {
        "id": "m2pw019t2FN9",
        "colab_type": "code",
        "colab": {}
      },
      "source": [
        "#make a dictionary\n",
        "class_en = {'ckd' : 1, 'notckd' : 0}\n",
        "catg_col['classification_en'] = catg_col['classification'].map(class_en)\n",
        "catg_col['classification_en'].head(10)"
      ],
      "execution_count": null,
      "outputs": []
    },
    {
      "cell_type": "code",
      "metadata": {
        "id": "uEMHsC122I0Y",
        "colab_type": "code",
        "colab": {}
      },
      "source": [
        "#drop the classification column\n",
        "catg_col.drop('classification',axis = 1, inplace=True)"
      ],
      "execution_count": null,
      "outputs": []
    },
    {
      "cell_type": "code",
      "metadata": {
        "id": "ArxFL2pw2LH1",
        "colab_type": "code",
        "colab": {}
      },
      "source": [
        "#check null values\n",
        "catg_col.isnull().sum()"
      ],
      "execution_count": null,
      "outputs": []
    },
    {
      "cell_type": "code",
      "metadata": {
        "id": "M2Rox4eN2NKI",
        "colab_type": "code",
        "colab": {}
      },
      "source": [
        "#fill the null values with the most frequent values\n",
        "n_col = ['rbc', 'pc', 'pcc', 'ba', 'htn', 'dm', 'cad', 'appet', 'pe', 'ane']\n",
        "for i in n_col:\n",
        "  catg_col[i].fillna(catg_col[i].mode()[0],inplace=True)"
      ],
      "execution_count": null,
      "outputs": []
    },
    {
      "cell_type": "markdown",
      "metadata": {
        "id": "7MAIGKGw2PvG",
        "colab_type": "text"
      },
      "source": [
        "\n",
        "Now let's check the predictor variables and identify them as nominal or ordinal"
      ]
    },
    {
      "cell_type": "code",
      "metadata": {
        "id": "99rlSs4m2Snj",
        "colab_type": "code",
        "colab": {}
      },
      "source": [
        "#check the unique values in each columns\n",
        "for i in catg_col:\n",
        "  print(i + '    ',catg_col[i].unique())"
      ],
      "execution_count": null,
      "outputs": []
    },
    {
      "cell_type": "markdown",
      "metadata": {
        "id": "mdt5PStf2U88",
        "colab_type": "text"
      },
      "source": [
        "Most of the columns has 2 labels. We can either use LabelEncoding or One Hot Encoding. as we have only 2 labels they will assign 1 and 0 only to the labels.\n",
        "\n",
        "Before applying feature encoding on these columns. If we look properly we need to do some cleaning here. There are values present as '\\tno', '\\tyes' in dm and cad. There appears to be a typo error. Wo e have to replace '\\tno' with no and 'tyes' with yes."
      ]
    },
    {
      "cell_type": "code",
      "metadata": {
        "id": "RNGGj9Xz2XuS",
        "colab_type": "code",
        "colab": {}
      },
      "source": [
        "#clean and strip the values\n",
        "catg_col['dm'] = catg_col['dm'].str.strip()\n",
        "catg_col['cad'] = catg_col['dm'].str.strip()"
      ],
      "execution_count": null,
      "outputs": []
    },
    {
      "cell_type": "code",
      "metadata": {
        "id": "U23uymZo2afR",
        "colab_type": "code",
        "colab": {}
      },
      "source": [
        "catg_col.drop('classification_en',axis=1,inplace=True)  #drop the classification_en column as we have already encoded it."
      ],
      "execution_count": null,
      "outputs": []
    },
    {
      "cell_type": "code",
      "metadata": {
        "id": "7ZSh6eDb2eVH",
        "colab_type": "code",
        "colab": {}
      },
      "source": [
        "#apply pd.get_dummies and keep drop_first=True\n",
        "pd.get_dummies(catg_col,drop_first=True)"
      ],
      "execution_count": null,
      "outputs": []
    },
    {
      "cell_type": "markdown",
      "metadata": {
        "id": "gKY4JoDO2ilo",
        "colab_type": "text"
      },
      "source": [
        "Awesome! We have encoded the categorical feature. Now our features are ready to go into modelling"
      ]
    }
  ]
}