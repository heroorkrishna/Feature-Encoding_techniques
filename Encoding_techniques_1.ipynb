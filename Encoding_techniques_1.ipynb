{
  "nbformat": 4,
  "nbformat_minor": 0,
  "metadata": {
    "colab": {
      "name": "Encoding_techniques_1.ipynb",
      "provenance": [],
      "collapsed_sections": []
    },
    "kernelspec": {
      "name": "python3",
      "display_name": "Python 3"
    }
  },
  "cells": [
    {
      "cell_type": "markdown",
      "metadata": {
        "id": "wF-PVMDV1YVY",
        "colab_type": "text"
      },
      "source": [
        "**Feature Encoding**\n",
        "\n",
        "Generally in our dataset we will have 2 types of features\n",
        "\n",
        "1.   Numerical (Integer,floats\n",
        "2.   Categorical (Nominal, ordinal)\n",
        "\n"
      ]
    },
    {
      "cell_type": "markdown",
      "metadata": {
        "id": "CczaGwEc1vXg",
        "colab_type": "text"
      },
      "source": [
        "We cannot pass in categorical features in Machine Learning models. So we need to convert them into numeric features.\n",
        "\n",
        "Categorical Variables are of 2 types Ordinal and Nominal.\n",
        "\n",
        "**Ordinal variables** has some kind order. (Good, Better, Best), (First, Second, Third)\n",
        "\n",
        "**Nominal variables** has no ordering between them. (Cat, Dog, Monkey), (Apple, Banana, Mango)\n",
        "\n",
        "Based on categorical variables whether they are ordinal or nominal we appply different techniques on them."
      ]
    },
    {
      "cell_type": "code",
      "metadata": {
        "id": "QbUVwg2z0gCX",
        "colab_type": "code",
        "colab": {}
      },
      "source": [
        "#let's create a dataframe\n",
        "import pandas as pd\n",
        "df = pd.DataFrame ({'country' : ['India','U.S','Australia','India','Australia','India','U.S'],\n",
        "                    'Age' : [44,34,28,27,30,42,25],\n",
        "                    'Salary' : [72000,44000,35000,27000,32000,56000,45000],\n",
        "                    'Purchased' : ['yes','no','yes','yes','no','yes','no']\n",
        "                    })"
      ],
      "execution_count": 1,
      "outputs": []
    },
    {
      "cell_type": "code",
      "metadata": {
        "id": "VibDzAHL1XXA",
        "colab_type": "code",
        "colab": {
          "base_uri": "https://localhost:8080/",
          "height": 153
        },
        "outputId": "bcbde3a4-d2db-453b-e3e2-6f0550f01f4e"
      },
      "source": [
        "#Let's check our dataframe\n",
        "print(df)"
      ],
      "execution_count": 2,
      "outputs": [
        {
          "output_type": "stream",
          "text": [
            "     country  Age  Salary Purchased\n",
            "0      India   44   72000       yes\n",
            "1        U.S   34   44000        no\n",
            "2  Australia   28   35000       yes\n",
            "3      India   27   27000       yes\n",
            "4  Australia   30   32000        no\n",
            "5      India   42   56000       yes\n",
            "6        U.S   25   45000        no\n"
          ],
          "name": "stdout"
        }
      ]
    },
    {
      "cell_type": "code",
      "metadata": {
        "id": "fEKC-zhA2JWV",
        "colab_type": "code",
        "colab": {
          "base_uri": "https://localhost:8080/",
          "height": 102
        },
        "outputId": "8722e2ba-08e3-4cd3-9aae-64229d159ff0"
      },
      "source": [
        "#check the datatypes\n",
        "df.dtypes"
      ],
      "execution_count": 3,
      "outputs": [
        {
          "output_type": "execute_result",
          "data": {
            "text/plain": [
              "country      object\n",
              "Age           int64\n",
              "Salary        int64\n",
              "Purchased    object\n",
              "dtype: object"
            ]
          },
          "metadata": {
            "tags": []
          },
          "execution_count": 3
        }
      ]
    },
    {
      "cell_type": "markdown",
      "metadata": {
        "id": "onzL30Sy2MmO",
        "colab_type": "text"
      },
      "source": [
        "Here we have 2 categorical feature\n",
        "\n",
        "*   Country.\n",
        "*   Purchased.\n",
        "\n",
        "Age and Salary have numeric values.\n",
        "\n",
        "As I said above that we cannot pass in categorical values in our models."
      ]
    },
    {
      "cell_type": "markdown",
      "metadata": {
        "id": "yV8NDfVu3CTj",
        "colab_type": "text"
      },
      "source": [
        "So we appply different techniques on them"
      ]
    },
    {
      "cell_type": "markdown",
      "metadata": {
        "id": "p6SNU-1D3Kpk",
        "colab_type": "text"
      },
      "source": [
        "1. **Label Encoding**"
      ]
    },
    {
      "cell_type": "code",
      "metadata": {
        "id": "TAW2PCYg2uAP",
        "colab_type": "code",
        "colab": {
          "base_uri": "https://localhost:8080/",
          "height": 34
        },
        "outputId": "2e65b909-ce07-4933-da71-d2b19d9aba94"
      },
      "source": [
        "df['country'].unique() #check unique"
      ],
      "execution_count": 4,
      "outputs": [
        {
          "output_type": "execute_result",
          "data": {
            "text/plain": [
              "array(['India', 'U.S', 'Australia'], dtype=object)"
            ]
          },
          "metadata": {
            "tags": []
          },
          "execution_count": 4
        }
      ]
    },
    {
      "cell_type": "markdown",
      "metadata": {
        "id": "m0DmwR013T0s",
        "colab_type": "text"
      },
      "source": [
        "So Here we have 3 categories in country column.\n",
        "\n",
        "India\n",
        "\n",
        "U.S\n",
        "\n",
        "Australia\n",
        "\n",
        "In label encoding different categories are given different unique values starting from 0 to (n-1). n is the number of categories."
      ]
    },
    {
      "cell_type": "code",
      "metadata": {
        "id": "hf9DgqzS3asC",
        "colab_type": "code",
        "colab": {}
      },
      "source": [
        "from sklearn.preprocessing import LabelEncoder #import the LabelEncoder from sklrean library\n",
        "le= LabelEncoder()    #create the instance of LabelEncoder\n",
        "\n",
        "df['country_temp'] = le.fit_transform(df['country'])   #apply LabelEncoding of country column"
      ],
      "execution_count": 5,
      "outputs": []
    },
    {
      "cell_type": "code",
      "metadata": {
        "id": "DaJZDenB3fgU",
        "colab_type": "code",
        "colab": {
          "base_uri": "https://localhost:8080/",
          "height": 153
        },
        "outputId": "f0898404-6f6f-404f-c30b-a844cba36c3f"
      },
      "source": [
        "df['country_temp']"
      ],
      "execution_count": 6,
      "outputs": [
        {
          "output_type": "execute_result",
          "data": {
            "text/plain": [
              "0    1\n",
              "1    2\n",
              "2    0\n",
              "3    1\n",
              "4    0\n",
              "5    1\n",
              "6    2\n",
              "Name: country_temp, dtype: int64"
            ]
          },
          "metadata": {
            "tags": []
          },
          "execution_count": 6
        }
      ]
    },
    {
      "cell_type": "markdown",
      "metadata": {
        "id": "k7hdUxjC3rVT",
        "colab_type": "text"
      },
      "source": [
        "Here we can see that country feature has been tranformed into numeric values. Label encoding is done in alphabatical order as we can see here.\n",
        "\n",
        "Australia -----> 0\n",
        "\n",
        "India --------> 1\n",
        "\n",
        "U.S ---------> 2"
      ]
    },
    {
      "cell_type": "markdown",
      "metadata": {
        "id": "V7VTpy4t3um5",
        "colab_type": "text"
      },
      "source": [
        "**Problem With Label Encoding**\n",
        "\n",
        "Here we have assigned numeric values i.e (0-Australia), (1-India), (2-U.S) in the same column. Problem here is that the machine learning models won't interpret these values as different labels as 0 < 1 < 2. Our model might interpret them in some order. But we don't have any ordering in our country feature. we cannot say Australia < India < U.S .\n",
        "\n",
        "We use One Hot encoding to overcome this problem. It is also known as nominal encoding. Here We create 3 different columns [India, Australia, U.S]. We assign 1 if that label is present in particular row otherwise we marks it as 0."
      ]
    },
    {
      "cell_type": "code",
      "metadata": {
        "id": "JnS_CFhH39_e",
        "colab_type": "code",
        "colab": {
          "base_uri": "https://localhost:8080/",
          "height": 266
        },
        "outputId": "ce531f00-109e-4b08-8bd5-20912fbcd742"
      },
      "source": [
        "#we will use get_dummies to do One Hot encoding\n",
        "pd.get_dummies(df['country'])"
      ],
      "execution_count": 7,
      "outputs": [
        {
          "output_type": "execute_result",
          "data": {
            "text/html": [
              "<div>\n",
              "<style scoped>\n",
              "    .dataframe tbody tr th:only-of-type {\n",
              "        vertical-align: middle;\n",
              "    }\n",
              "\n",
              "    .dataframe tbody tr th {\n",
              "        vertical-align: top;\n",
              "    }\n",
              "\n",
              "    .dataframe thead th {\n",
              "        text-align: right;\n",
              "    }\n",
              "</style>\n",
              "<table border=\"1\" class=\"dataframe\">\n",
              "  <thead>\n",
              "    <tr style=\"text-align: right;\">\n",
              "      <th></th>\n",
              "      <th>Australia</th>\n",
              "      <th>India</th>\n",
              "      <th>U.S</th>\n",
              "    </tr>\n",
              "  </thead>\n",
              "  <tbody>\n",
              "    <tr>\n",
              "      <th>0</th>\n",
              "      <td>0</td>\n",
              "      <td>1</td>\n",
              "      <td>0</td>\n",
              "    </tr>\n",
              "    <tr>\n",
              "      <th>1</th>\n",
              "      <td>0</td>\n",
              "      <td>0</td>\n",
              "      <td>1</td>\n",
              "    </tr>\n",
              "    <tr>\n",
              "      <th>2</th>\n",
              "      <td>1</td>\n",
              "      <td>0</td>\n",
              "      <td>0</td>\n",
              "    </tr>\n",
              "    <tr>\n",
              "      <th>3</th>\n",
              "      <td>0</td>\n",
              "      <td>1</td>\n",
              "      <td>0</td>\n",
              "    </tr>\n",
              "    <tr>\n",
              "      <th>4</th>\n",
              "      <td>1</td>\n",
              "      <td>0</td>\n",
              "      <td>0</td>\n",
              "    </tr>\n",
              "    <tr>\n",
              "      <th>5</th>\n",
              "      <td>0</td>\n",
              "      <td>1</td>\n",
              "      <td>0</td>\n",
              "    </tr>\n",
              "    <tr>\n",
              "      <th>6</th>\n",
              "      <td>0</td>\n",
              "      <td>0</td>\n",
              "      <td>1</td>\n",
              "    </tr>\n",
              "  </tbody>\n",
              "</table>\n",
              "</div>"
            ],
            "text/plain": [
              "   Australia  India  U.S\n",
              "0          0      1    0\n",
              "1          0      0    1\n",
              "2          1      0    0\n",
              "3          0      1    0\n",
              "4          1      0    0\n",
              "5          0      1    0\n",
              "6          0      0    1"
            ]
          },
          "metadata": {
            "tags": []
          },
          "execution_count": 7
        }
      ]
    },
    {
      "cell_type": "markdown",
      "metadata": {
        "id": "d1K8gUi34AwK",
        "colab_type": "text"
      },
      "source": [
        "* Here in first row ['India'] is assigned 1 and Australia and U.S are assigned 0.\n",
        "\n",
        "* Similarly in 2nd row ['U.S'] is assigned 1 and other columns are assigned 0.\n",
        "\n",
        "We can drop the first column here, it is just increasing the features. Reason ---- Even if we just have two columns suppose india and U.S and both are assigned 0. It is understood that when both of these labels are zero The 3rd label is automatically going to be 1."
      ]
    },
    {
      "cell_type": "code",
      "metadata": {
        "id": "fIRGjbc34S7c",
        "colab_type": "code",
        "colab": {
          "base_uri": "https://localhost:8080/",
          "height": 266
        },
        "outputId": "8477ccea-6406-49ac-8b6a-de5428e6e51c"
      },
      "source": [
        "#Dropping the first column\n",
        "pd.get_dummies(df['country'],drop_first=True)"
      ],
      "execution_count": 8,
      "outputs": [
        {
          "output_type": "execute_result",
          "data": {
            "text/html": [
              "<div>\n",
              "<style scoped>\n",
              "    .dataframe tbody tr th:only-of-type {\n",
              "        vertical-align: middle;\n",
              "    }\n",
              "\n",
              "    .dataframe tbody tr th {\n",
              "        vertical-align: top;\n",
              "    }\n",
              "\n",
              "    .dataframe thead th {\n",
              "        text-align: right;\n",
              "    }\n",
              "</style>\n",
              "<table border=\"1\" class=\"dataframe\">\n",
              "  <thead>\n",
              "    <tr style=\"text-align: right;\">\n",
              "      <th></th>\n",
              "      <th>India</th>\n",
              "      <th>U.S</th>\n",
              "    </tr>\n",
              "  </thead>\n",
              "  <tbody>\n",
              "    <tr>\n",
              "      <th>0</th>\n",
              "      <td>1</td>\n",
              "      <td>0</td>\n",
              "    </tr>\n",
              "    <tr>\n",
              "      <th>1</th>\n",
              "      <td>0</td>\n",
              "      <td>1</td>\n",
              "    </tr>\n",
              "    <tr>\n",
              "      <th>2</th>\n",
              "      <td>0</td>\n",
              "      <td>0</td>\n",
              "    </tr>\n",
              "    <tr>\n",
              "      <th>3</th>\n",
              "      <td>1</td>\n",
              "      <td>0</td>\n",
              "    </tr>\n",
              "    <tr>\n",
              "      <th>4</th>\n",
              "      <td>0</td>\n",
              "      <td>0</td>\n",
              "    </tr>\n",
              "    <tr>\n",
              "      <th>5</th>\n",
              "      <td>1</td>\n",
              "      <td>0</td>\n",
              "    </tr>\n",
              "    <tr>\n",
              "      <th>6</th>\n",
              "      <td>0</td>\n",
              "      <td>1</td>\n",
              "    </tr>\n",
              "  </tbody>\n",
              "</table>\n",
              "</div>"
            ],
            "text/plain": [
              "   India  U.S\n",
              "0      1    0\n",
              "1      0    1\n",
              "2      0    0\n",
              "3      1    0\n",
              "4      0    0\n",
              "5      1    0\n",
              "6      0    1"
            ]
          },
          "metadata": {
            "tags": []
          },
          "execution_count": 8
        }
      ]
    },
    {
      "cell_type": "markdown",
      "metadata": {
        "id": "KcEeRiRL4Wja",
        "colab_type": "text"
      },
      "source": [
        "\n",
        "Here we have done one hot encoding only on single feature but in real world datasets there will be many categorical features. \n",
        "\n",
        "Suppose our dataset has 50 categorical features with 3 different labels in each features. In that case if we apply one hot encoding, our features will also increase. we will have 100 features. It will make our model more complex.\n",
        "\n",
        "Based on the dataset there are different techniques that we can apply to over-come this problem of dimensionality."
      ]
    },
    {
      "cell_type": "markdown",
      "metadata": {
        "id": "s_kFVJUT4e0V",
        "colab_type": "text"
      },
      "source": [
        "**Binary Encoding**\n",
        "\n",
        "This is not intiuative like the previous ones. Here the labels are firstly encoded ordinal and then they are converted into binary codes. Then the digits from that binary string are converted into different features.\n",
        "\n"
      ]
    },
    {
      "cell_type": "code",
      "metadata": {
        "id": "Y2HQmRFr4lce",
        "colab_type": "code",
        "colab": {
          "base_uri": "https://localhost:8080/",
          "height": 153
        },
        "outputId": "05f45806-bc6c-4758-ac13-8f9f28f8061f"
      },
      "source": [
        "#create 1 more column occupation here\n",
        "df['occupation'] = ['Self-employeed','Freelancer','Family-business','Data-scientist','Data -Analyst ','Manager','Daily-wage-worker']\n",
        "print(df['occupation'])"
      ],
      "execution_count": 12,
      "outputs": [
        {
          "output_type": "stream",
          "text": [
            "0       Self-employeed\n",
            "1           Freelancer\n",
            "2      Family-business\n",
            "3       Data-scientist\n",
            "4       Data -Analyst \n",
            "5              Manager\n",
            "6    Daily-wage-worker\n",
            "Name: occupation, dtype: object\n"
          ],
          "name": "stdout"
        }
      ]
    },
    {
      "cell_type": "markdown",
      "metadata": {
        "id": "y9jbZkaJ5HQs",
        "colab_type": "text"
      },
      "source": [
        "\n",
        "We have seven different categories here. And we don't have any ordering in them as well."
      ]
    },
    {
      "cell_type": "code",
      "metadata": {
        "id": "NaO_tFum5OMi",
        "colab_type": "code",
        "colab": {
          "base_uri": "https://localhost:8080/",
          "height": 241
        },
        "outputId": "a6998a25-4e34-464f-85f9-1e10247a53a9"
      },
      "source": [
        "# we will use BinaryEncoder from category_encoders library to do binary encoding\n",
        "import category_encoders as ce\n",
        "encoder = ce.BinaryEncoder(cols = ['occupation'])\n",
        "df_binary = encoder.fit_transform(df)\n",
        "print(df_binary)"
      ],
      "execution_count": 14,
      "outputs": [
        {
          "output_type": "stream",
          "text": [
            "/usr/local/lib/python3.6/dist-packages/statsmodels/tools/_testing.py:19: FutureWarning: pandas.util.testing is deprecated. Use the functions in the public API at pandas.testing instead.\n",
            "  import pandas.util.testing as tm\n"
          ],
          "name": "stderr"
        },
        {
          "output_type": "stream",
          "text": [
            "     country  Age  Salary  ... occupation_1  occupation_2  occupation_3\n",
            "0      India   44   72000  ...            0             0             1\n",
            "1        U.S   34   44000  ...            0             1             0\n",
            "2  Australia   28   35000  ...            0             1             1\n",
            "3      India   27   27000  ...            1             0             0\n",
            "4  Australia   30   32000  ...            1             0             1\n",
            "5      India   42   56000  ...            1             1             0\n",
            "6        U.S   25   45000  ...            1             1             1\n",
            "\n",
            "[7 rows x 9 columns]\n"
          ],
          "name": "stdout"
        }
      ]
    },
    {
      "cell_type": "markdown",
      "metadata": {
        "id": "lhJ3J_wC5TbW",
        "colab_type": "text"
      },
      "source": [
        "We had 7 different categories in occupation if we would have used one hot encoding it would have given us 7 features. But by using Binary Encoding we have limited it to 3. Binary Encoding is very useful whin we have many categories within a single feature. It help us to reduce the dimensionality."
      ]
    },
    {
      "cell_type": "code",
      "metadata": {
        "id": "x1bvVFUJ5WJa",
        "colab_type": "code",
        "colab": {
          "base_uri": "https://localhost:8080/",
          "height": 35
        },
        "outputId": "be5b8940-e308-4f96-c9ff-97b3de71e7f7"
      },
      "source": [
        "'''By the end of thus we have seen 3 basic types feature encoding techniques here there are many more.\n",
        "              we will look at them with some practical uses and with some real world dataset'''\n",
        "'''\n",
        "Thank you \n",
        "'''              "
      ],
      "execution_count": 15,
      "outputs": [
        {
          "output_type": "execute_result",
          "data": {
            "application/vnd.google.colaboratory.intrinsic": {
              "type": "string"
            },
            "text/plain": [
              "'\\nThank you \\n'"
            ]
          },
          "metadata": {
            "tags": []
          },
          "execution_count": 15
        }
      ]
    }
  ]
}